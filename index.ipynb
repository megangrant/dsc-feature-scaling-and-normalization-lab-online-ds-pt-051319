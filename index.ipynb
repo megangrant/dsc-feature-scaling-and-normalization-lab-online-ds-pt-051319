{
 "cells": [
  {
   "cell_type": "markdown",
   "metadata": {},
   "source": [
    "## Feature Scaling and Normalization - Lab"
   ]
  },
  {
   "cell_type": "markdown",
   "metadata": {},
   "source": [
    "## Introduction\n",
    "In this lab, you'll practice your feature scaling and normalization skills!"
   ]
  },
  {
   "cell_type": "markdown",
   "metadata": {},
   "source": [
    "## Objectives\n",
    "You will be able to:\n",
    "* Implement min-max scaling, mean-normalization, log normalization and unit vector normalization in python\n",
    "* Identify appropriate normalization and scaling techniques for given dataset"
   ]
  },
  {
   "cell_type": "markdown",
   "metadata": {},
   "source": [
    "## Back to our Boston Housing data"
   ]
  },
  {
   "cell_type": "markdown",
   "metadata": {},
   "source": [
    "Let's import our Boston Housing data. Remember we categorized two variables and deleted the \"NOX\" (nitride oxide concentration) variable because it was highly correlated with two other features."
   ]
  },
  {
   "cell_type": "code",
   "execution_count": 1,
   "metadata": {},
   "outputs": [],
   "source": [
    "import pandas as pd\n",
    "from sklearn.datasets import load_boston\n",
    "boston = load_boston()\n",
    "\n",
    "boston_features = pd.DataFrame(boston.data, columns = boston.feature_names)\n",
    "\n",
    "# first, create bins for based on the values observed. 5 values will result in 4 bins\n",
    "bins = [0, 3, 4 , 5, 24]\n",
    "bins_rad = pd.cut(boston_features['RAD'], bins)\n",
    "bins_rad = bins_rad.cat.as_unordered()\n",
    "\n",
    "# first, create bins for based on the values observed. 5 values will result in 4 bins\n",
    "bins = [0, 250, 300, 360, 460, 712]\n",
    "bins_tax = pd.cut(boston_features['TAX'], bins)\n",
    "bins_tax = bins_tax.cat.as_unordered()\n",
    "\n",
    "tax_dummy = pd.get_dummies(bins_tax, prefix=\"TAX\")\n",
    "rad_dummy = pd.get_dummies(bins_rad, prefix=\"RAD\")\n",
    "boston_features = boston_features.drop([\"RAD\",\"TAX\"], axis=1)\n",
    "boston_features = pd.concat([boston_features, rad_dummy, tax_dummy], axis=1)\n",
    "boston_features = boston_features.drop(\"NOX\",axis=1)"
   ]
  },
  {
   "cell_type": "markdown",
   "metadata": {},
   "source": [
    "## Look at the histograms for the continuous variables"
   ]
  },
  {
   "cell_type": "code",
   "execution_count": 2,
   "metadata": {},
   "outputs": [],
   "source": [
    "df = boston_features\n",
    "cnts = df[df.columns.drop(list(df.filter(regex = \"RAD\")))]"
   ]
  },
  {
   "cell_type": "code",
   "execution_count": 3,
   "metadata": {},
   "outputs": [],
   "source": [
    "cnts = cnts[cnts.columns.drop(list(df.filter(regex = \"TAX\")))]\n",
    "cnts = cnts.drop([\"CHAS\"], axis = 1)"
   ]
  },
  {
   "cell_type": "code",
   "execution_count": 4,
   "metadata": {},
   "outputs": [
    {
     "data": {
      "text/plain": [
       "array([[<matplotlib.axes._subplots.AxesSubplot object at 0x1a1f5ac6a0>,\n",
       "        <matplotlib.axes._subplots.AxesSubplot object at 0x1a1f58eef0>,\n",
       "        <matplotlib.axes._subplots.AxesSubplot object at 0x1a1f8cbb00>],\n",
       "       [<matplotlib.axes._subplots.AxesSubplot object at 0x1a1f9010b8>,\n",
       "        <matplotlib.axes._subplots.AxesSubplot object at 0x1a1f926630>,\n",
       "        <matplotlib.axes._subplots.AxesSubplot object at 0x1a1f94dba8>],\n",
       "       [<matplotlib.axes._subplots.AxesSubplot object at 0x1a1f97e160>,\n",
       "        <matplotlib.axes._subplots.AxesSubplot object at 0x1a1f9a3710>,\n",
       "        <matplotlib.axes._subplots.AxesSubplot object at 0x1a1f9a3748>]],\n",
       "      dtype=object)"
      ]
     },
     "execution_count": 4,
     "metadata": {},
     "output_type": "execute_result"
    }
   ],
   "source": [
    "cnts.hist(figsize = (9,9))"
   ]
  },
  {
   "cell_type": "markdown",
   "metadata": {},
   "source": [
    "## Perform log transformations for the variables where it makes sense"
   ]
  },
  {
   "cell_type": "markdown",
   "metadata": {},
   "source": [
    "Analyze the results in terms of how they improved the normality performance. What is the problem with the \"ZN\" variable?  "
   ]
  },
  {
   "cell_type": "code",
   "execution_count": 5,
   "metadata": {},
   "outputs": [],
   "source": [
    "import numpy as np\n",
    "df_log = cnts\n",
    "df_log[\"CRIM_log\"] = np.log(cnts[\"CRIM\"])"
   ]
  },
  {
   "cell_type": "code",
   "execution_count": 6,
   "metadata": {},
   "outputs": [],
   "source": [
    "df_log[\"B_log\"] = np.log(cnts[\"B\"])\n",
    "df_log[\"AGE_log\"] = np.log(cnts[\"AGE\"])"
   ]
  },
  {
   "cell_type": "code",
   "execution_count": 7,
   "metadata": {},
   "outputs": [
    {
     "data": {
      "text/html": [
       "<div>\n",
       "<style scoped>\n",
       "    .dataframe tbody tr th:only-of-type {\n",
       "        vertical-align: middle;\n",
       "    }\n",
       "\n",
       "    .dataframe tbody tr th {\n",
       "        vertical-align: top;\n",
       "    }\n",
       "\n",
       "    .dataframe thead th {\n",
       "        text-align: right;\n",
       "    }\n",
       "</style>\n",
       "<table border=\"1\" class=\"dataframe\">\n",
       "  <thead>\n",
       "    <tr style=\"text-align: right;\">\n",
       "      <th></th>\n",
       "      <th>ZN</th>\n",
       "      <th>INDUS</th>\n",
       "      <th>RM</th>\n",
       "      <th>DIS</th>\n",
       "      <th>PTRATIO</th>\n",
       "      <th>LSTAT</th>\n",
       "      <th>CRIM_log</th>\n",
       "      <th>B_log</th>\n",
       "      <th>AGE_log</th>\n",
       "    </tr>\n",
       "  </thead>\n",
       "  <tbody>\n",
       "    <tr>\n",
       "      <th>0</th>\n",
       "      <td>18.0</td>\n",
       "      <td>2.31</td>\n",
       "      <td>6.575</td>\n",
       "      <td>4.0900</td>\n",
       "      <td>15.3</td>\n",
       "      <td>4.98</td>\n",
       "      <td>-5.064036</td>\n",
       "      <td>5.983684</td>\n",
       "      <td>4.177459</td>\n",
       "    </tr>\n",
       "    <tr>\n",
       "      <th>1</th>\n",
       "      <td>0.0</td>\n",
       "      <td>7.07</td>\n",
       "      <td>6.421</td>\n",
       "      <td>4.9671</td>\n",
       "      <td>17.8</td>\n",
       "      <td>9.14</td>\n",
       "      <td>-3.600502</td>\n",
       "      <td>5.983684</td>\n",
       "      <td>4.368181</td>\n",
       "    </tr>\n",
       "    <tr>\n",
       "      <th>2</th>\n",
       "      <td>0.0</td>\n",
       "      <td>7.07</td>\n",
       "      <td>7.185</td>\n",
       "      <td>4.9671</td>\n",
       "      <td>17.8</td>\n",
       "      <td>4.03</td>\n",
       "      <td>-3.601235</td>\n",
       "      <td>5.973377</td>\n",
       "      <td>4.112512</td>\n",
       "    </tr>\n",
       "    <tr>\n",
       "      <th>3</th>\n",
       "      <td>0.0</td>\n",
       "      <td>2.18</td>\n",
       "      <td>6.998</td>\n",
       "      <td>6.0622</td>\n",
       "      <td>18.7</td>\n",
       "      <td>2.94</td>\n",
       "      <td>-3.430523</td>\n",
       "      <td>5.977949</td>\n",
       "      <td>3.824284</td>\n",
       "    </tr>\n",
       "    <tr>\n",
       "      <th>4</th>\n",
       "      <td>0.0</td>\n",
       "      <td>2.18</td>\n",
       "      <td>7.147</td>\n",
       "      <td>6.0622</td>\n",
       "      <td>18.7</td>\n",
       "      <td>5.33</td>\n",
       "      <td>-2.672924</td>\n",
       "      <td>5.983684</td>\n",
       "      <td>3.992681</td>\n",
       "    </tr>\n",
       "  </tbody>\n",
       "</table>\n",
       "</div>"
      ],
      "text/plain": [
       "     ZN  INDUS     RM     DIS  PTRATIO  LSTAT  CRIM_log     B_log   AGE_log\n",
       "0  18.0   2.31  6.575  4.0900     15.3   4.98 -5.064036  5.983684  4.177459\n",
       "1   0.0   7.07  6.421  4.9671     17.8   9.14 -3.600502  5.983684  4.368181\n",
       "2   0.0   7.07  7.185  4.9671     17.8   4.03 -3.601235  5.973377  4.112512\n",
       "3   0.0   2.18  6.998  6.0622     18.7   2.94 -3.430523  5.977949  3.824284\n",
       "4   0.0   2.18  7.147  6.0622     18.7   5.33 -2.672924  5.983684  3.992681"
      ]
     },
     "execution_count": 7,
     "metadata": {},
     "output_type": "execute_result"
    }
   ],
   "source": [
    "df_log_2 = df_log.drop(\"CRIM\", axis = 1).drop(\"AGE\", axis = 1).drop(\"B\", axis = 1)\n",
    "df_log_2.head()"
   ]
  },
  {
   "cell_type": "markdown",
   "metadata": {},
   "source": [
    "MEG: The problem with the column ZN is that a lot of the rows contain zero values. A zero value cannot be logged therefore the log cannot be found for any of this column."
   ]
  },
  {
   "cell_type": "markdown",
   "metadata": {},
   "source": [
    "\"ZN\" has a lot of zeros (more than 50%!). Remember that this variable denoted: \"proportion of residential land zoned for lots over 25,000 sq.ft.\". It might have made sense to categorize this variable to \"over 25,000 feet or not (binary variable 1/0). Now you have a zero-inflated variable which is cumbersome to work with."
   ]
  },
  {
   "cell_type": "markdown",
   "metadata": {},
   "source": [
    "## Try different types of transformations on the continuous variables"
   ]
  },
  {
   "cell_type": "markdown",
   "metadata": {},
   "source": [
    "Store your final features in a dataframe `features_final`"
   ]
  },
  {
   "cell_type": "code",
   "execution_count": 8,
   "metadata": {},
   "outputs": [
    {
     "data": {
      "text/html": [
       "<div>\n",
       "<style scoped>\n",
       "    .dataframe tbody tr th:only-of-type {\n",
       "        vertical-align: middle;\n",
       "    }\n",
       "\n",
       "    .dataframe tbody tr th {\n",
       "        vertical-align: top;\n",
       "    }\n",
       "\n",
       "    .dataframe thead th {\n",
       "        text-align: right;\n",
       "    }\n",
       "</style>\n",
       "<table border=\"1\" class=\"dataframe\">\n",
       "  <thead>\n",
       "    <tr style=\"text-align: right;\">\n",
       "      <th></th>\n",
       "      <th>INDUS</th>\n",
       "      <th>RM</th>\n",
       "      <th>DIS</th>\n",
       "      <th>PTRATIO</th>\n",
       "      <th>LSTAT</th>\n",
       "      <th>CRIM_log</th>\n",
       "      <th>B_log</th>\n",
       "      <th>AGE_log</th>\n",
       "    </tr>\n",
       "  </thead>\n",
       "  <tbody>\n",
       "    <tr>\n",
       "      <th>0</th>\n",
       "      <td>2.31</td>\n",
       "      <td>6.575</td>\n",
       "      <td>4.0900</td>\n",
       "      <td>15.3</td>\n",
       "      <td>4.98</td>\n",
       "      <td>-5.064036</td>\n",
       "      <td>5.983684</td>\n",
       "      <td>4.177459</td>\n",
       "    </tr>\n",
       "    <tr>\n",
       "      <th>1</th>\n",
       "      <td>7.07</td>\n",
       "      <td>6.421</td>\n",
       "      <td>4.9671</td>\n",
       "      <td>17.8</td>\n",
       "      <td>9.14</td>\n",
       "      <td>-3.600502</td>\n",
       "      <td>5.983684</td>\n",
       "      <td>4.368181</td>\n",
       "    </tr>\n",
       "    <tr>\n",
       "      <th>2</th>\n",
       "      <td>7.07</td>\n",
       "      <td>7.185</td>\n",
       "      <td>4.9671</td>\n",
       "      <td>17.8</td>\n",
       "      <td>4.03</td>\n",
       "      <td>-3.601235</td>\n",
       "      <td>5.973377</td>\n",
       "      <td>4.112512</td>\n",
       "    </tr>\n",
       "    <tr>\n",
       "      <th>3</th>\n",
       "      <td>2.18</td>\n",
       "      <td>6.998</td>\n",
       "      <td>6.0622</td>\n",
       "      <td>18.7</td>\n",
       "      <td>2.94</td>\n",
       "      <td>-3.430523</td>\n",
       "      <td>5.977949</td>\n",
       "      <td>3.824284</td>\n",
       "    </tr>\n",
       "    <tr>\n",
       "      <th>4</th>\n",
       "      <td>2.18</td>\n",
       "      <td>7.147</td>\n",
       "      <td>6.0622</td>\n",
       "      <td>18.7</td>\n",
       "      <td>5.33</td>\n",
       "      <td>-2.672924</td>\n",
       "      <td>5.983684</td>\n",
       "      <td>3.992681</td>\n",
       "    </tr>\n",
       "  </tbody>\n",
       "</table>\n",
       "</div>"
      ],
      "text/plain": [
       "   INDUS     RM     DIS  PTRATIO  LSTAT  CRIM_log     B_log   AGE_log\n",
       "0   2.31  6.575  4.0900     15.3   4.98 -5.064036  5.983684  4.177459\n",
       "1   7.07  6.421  4.9671     17.8   9.14 -3.600502  5.983684  4.368181\n",
       "2   7.07  7.185  4.9671     17.8   4.03 -3.601235  5.973377  4.112512\n",
       "3   2.18  6.998  6.0622     18.7   2.94 -3.430523  5.977949  3.824284\n",
       "4   2.18  7.147  6.0622     18.7   5.33 -2.672924  5.983684  3.992681"
      ]
     },
     "execution_count": 8,
     "metadata": {},
     "output_type": "execute_result"
    }
   ],
   "source": [
    "features_final_a = df_log_2.drop(\"ZN\", axis = 1)\n",
    "features_final_a.head()"
   ]
  },
  {
   "cell_type": "markdown",
   "metadata": {},
   "source": [
    "MEG: I have decided to log the rest of the dataset so that I have a standard, continuous format for the data to work with. I will then use the standardization technique to standardise all of the data, so that I can see the affect that it has on the dataframe histograms."
   ]
  },
  {
   "cell_type": "code",
   "execution_count": 9,
   "metadata": {},
   "outputs": [],
   "source": [
    "col_to_log = features_final_a.columns[0:5]\n",
    "for col in col_to_log:\n",
    "    features_final_a[\"{}_log\".format(col)] = np.log(features_final_a[\"{}\".format(col)])\n",
    "features_final_a = features_final_a.drop(features_final_a.columns[[0,1,2,3,4]], axis = 1)"
   ]
  },
  {
   "cell_type": "code",
   "execution_count": 10,
   "metadata": {},
   "outputs": [],
   "source": [
    "import sklearn as sk\n",
    "from sklearn.preprocessing import MinMaxScaler\n",
    "x = features_final_a.values #returns a numpy array\n",
    "min_max_scaler = MinMaxScaler()\n",
    "x_scaled = min_max_scaler.fit_transform(x)\n",
    "features_final_b = pd.DataFrame(x_scaled)"
   ]
  },
  {
   "cell_type": "code",
   "execution_count": 11,
   "metadata": {},
   "outputs": [
    {
     "data": {
      "text/html": [
       "<div>\n",
       "<style scoped>\n",
       "    .dataframe tbody tr th:only-of-type {\n",
       "        vertical-align: middle;\n",
       "    }\n",
       "\n",
       "    .dataframe tbody tr th {\n",
       "        vertical-align: top;\n",
       "    }\n",
       "\n",
       "    .dataframe thead th {\n",
       "        text-align: right;\n",
       "    }\n",
       "</style>\n",
       "<table border=\"1\" class=\"dataframe\">\n",
       "  <thead>\n",
       "    <tr style=\"text-align: right;\">\n",
       "      <th></th>\n",
       "      <th>0</th>\n",
       "      <th>1</th>\n",
       "      <th>2</th>\n",
       "      <th>3</th>\n",
       "      <th>4</th>\n",
       "      <th>5</th>\n",
       "      <th>6</th>\n",
       "      <th>7</th>\n",
       "    </tr>\n",
       "  </thead>\n",
       "  <tbody>\n",
       "    <tr>\n",
       "      <th>0</th>\n",
       "      <td>0.000000</td>\n",
       "      <td>1.000000</td>\n",
       "      <td>0.879193</td>\n",
       "      <td>0.393661</td>\n",
       "      <td>0.679532</td>\n",
       "      <td>0.542096</td>\n",
       "      <td>0.348358</td>\n",
       "      <td>0.342318</td>\n",
       "    </tr>\n",
       "    <tr>\n",
       "      <th>1</th>\n",
       "      <td>0.153211</td>\n",
       "      <td>1.000000</td>\n",
       "      <td>0.933063</td>\n",
       "      <td>0.666533</td>\n",
       "      <td>0.653269</td>\n",
       "      <td>0.623954</td>\n",
       "      <td>0.619906</td>\n",
       "      <td>0.538917</td>\n",
       "    </tr>\n",
       "    <tr>\n",
       "      <th>2</th>\n",
       "      <td>0.153134</td>\n",
       "      <td>0.998553</td>\n",
       "      <td>0.860849</td>\n",
       "      <td>0.666533</td>\n",
       "      <td>0.777845</td>\n",
       "      <td>0.623954</td>\n",
       "      <td>0.619906</td>\n",
       "      <td>0.273789</td>\n",
       "    </tr>\n",
       "    <tr>\n",
       "      <th>3</th>\n",
       "      <td>0.171005</td>\n",
       "      <td>0.999195</td>\n",
       "      <td>0.779439</td>\n",
       "      <td>0.379532</td>\n",
       "      <td>0.748622</td>\n",
       "      <td>0.707895</td>\n",
       "      <td>0.708405</td>\n",
       "      <td>0.171688</td>\n",
       "    </tr>\n",
       "    <tr>\n",
       "      <th>4</th>\n",
       "      <td>0.250315</td>\n",
       "      <td>1.000000</td>\n",
       "      <td>0.827003</td>\n",
       "      <td>0.379532</td>\n",
       "      <td>0.771968</td>\n",
       "      <td>0.707895</td>\n",
       "      <td>0.708405</td>\n",
       "      <td>0.364308</td>\n",
       "    </tr>\n",
       "  </tbody>\n",
       "</table>\n",
       "</div>"
      ],
      "text/plain": [
       "          0         1         2         3         4         5         6  \\\n",
       "0  0.000000  1.000000  0.879193  0.393661  0.679532  0.542096  0.348358   \n",
       "1  0.153211  1.000000  0.933063  0.666533  0.653269  0.623954  0.619906   \n",
       "2  0.153134  0.998553  0.860849  0.666533  0.777845  0.623954  0.619906   \n",
       "3  0.171005  0.999195  0.779439  0.379532  0.748622  0.707895  0.708405   \n",
       "4  0.250315  1.000000  0.827003  0.379532  0.771968  0.707895  0.708405   \n",
       "\n",
       "          7  \n",
       "0  0.342318  \n",
       "1  0.538917  \n",
       "2  0.273789  \n",
       "3  0.171688  \n",
       "4  0.364308  "
      ]
     },
     "execution_count": 11,
     "metadata": {},
     "output_type": "execute_result"
    }
   ],
   "source": [
    "features_final_b.head()"
   ]
  },
  {
   "cell_type": "markdown",
   "metadata": {},
   "source": [
    "MEG: This was great for standardising the set but now the data set is missing column headers! So i have to replace those."
   ]
  },
  {
   "cell_type": "code",
   "execution_count": 28,
   "metadata": {},
   "outputs": [
    {
     "data": {
      "text/plain": [
       "Index(['CRIM_log', 'B_log', 'AGE_log', 'INDUS_log', 'RM_log', 'DIS_log',\n",
       "       'PTRATIO_log', 'LSTAT_log'],\n",
       "      dtype='object')"
      ]
     },
     "execution_count": 28,
     "metadata": {},
     "output_type": "execute_result"
    }
   ],
   "source": [
    "features_final_a.columns"
   ]
  },
  {
   "cell_type": "code",
   "execution_count": 24,
   "metadata": {},
   "outputs": [
    {
     "data": {
      "text/html": [
       "<div>\n",
       "<style scoped>\n",
       "    .dataframe tbody tr th:only-of-type {\n",
       "        vertical-align: middle;\n",
       "    }\n",
       "\n",
       "    .dataframe tbody tr th {\n",
       "        vertical-align: top;\n",
       "    }\n",
       "\n",
       "    .dataframe thead th {\n",
       "        text-align: right;\n",
       "    }\n",
       "</style>\n",
       "<table border=\"1\" class=\"dataframe\">\n",
       "  <thead>\n",
       "    <tr style=\"text-align: right;\">\n",
       "      <th></th>\n",
       "      <th>0</th>\n",
       "      <th>1</th>\n",
       "      <th>2</th>\n",
       "      <th>3</th>\n",
       "      <th>4</th>\n",
       "      <th>5</th>\n",
       "      <th>6</th>\n",
       "      <th>7</th>\n",
       "    </tr>\n",
       "  </thead>\n",
       "  <tbody>\n",
       "    <tr>\n",
       "      <th>0</th>\n",
       "      <td>0.000000</td>\n",
       "      <td>1.000000</td>\n",
       "      <td>0.879193</td>\n",
       "      <td>0.393661</td>\n",
       "      <td>0.679532</td>\n",
       "      <td>0.542096</td>\n",
       "      <td>0.348358</td>\n",
       "      <td>0.342318</td>\n",
       "    </tr>\n",
       "    <tr>\n",
       "      <th>1</th>\n",
       "      <td>0.153211</td>\n",
       "      <td>1.000000</td>\n",
       "      <td>0.933063</td>\n",
       "      <td>0.666533</td>\n",
       "      <td>0.653269</td>\n",
       "      <td>0.623954</td>\n",
       "      <td>0.619906</td>\n",
       "      <td>0.538917</td>\n",
       "    </tr>\n",
       "    <tr>\n",
       "      <th>2</th>\n",
       "      <td>0.153134</td>\n",
       "      <td>0.998553</td>\n",
       "      <td>0.860849</td>\n",
       "      <td>0.666533</td>\n",
       "      <td>0.777845</td>\n",
       "      <td>0.623954</td>\n",
       "      <td>0.619906</td>\n",
       "      <td>0.273789</td>\n",
       "    </tr>\n",
       "    <tr>\n",
       "      <th>3</th>\n",
       "      <td>0.171005</td>\n",
       "      <td>0.999195</td>\n",
       "      <td>0.779439</td>\n",
       "      <td>0.379532</td>\n",
       "      <td>0.748622</td>\n",
       "      <td>0.707895</td>\n",
       "      <td>0.708405</td>\n",
       "      <td>0.171688</td>\n",
       "    </tr>\n",
       "    <tr>\n",
       "      <th>4</th>\n",
       "      <td>0.250315</td>\n",
       "      <td>1.000000</td>\n",
       "      <td>0.827003</td>\n",
       "      <td>0.379532</td>\n",
       "      <td>0.771968</td>\n",
       "      <td>0.707895</td>\n",
       "      <td>0.708405</td>\n",
       "      <td>0.364308</td>\n",
       "    </tr>\n",
       "  </tbody>\n",
       "</table>\n",
       "</div>"
      ],
      "text/plain": [
       "          0         1         2         3         4         5         6  \\\n",
       "0  0.000000  1.000000  0.879193  0.393661  0.679532  0.542096  0.348358   \n",
       "1  0.153211  1.000000  0.933063  0.666533  0.653269  0.623954  0.619906   \n",
       "2  0.153134  0.998553  0.860849  0.666533  0.777845  0.623954  0.619906   \n",
       "3  0.171005  0.999195  0.779439  0.379532  0.748622  0.707895  0.708405   \n",
       "4  0.250315  1.000000  0.827003  0.379532  0.771968  0.707895  0.708405   \n",
       "\n",
       "          7  \n",
       "0  0.342318  \n",
       "1  0.538917  \n",
       "2  0.273789  \n",
       "3  0.171688  \n",
       "4  0.364308  "
      ]
     },
     "execution_count": 24,
     "metadata": {},
     "output_type": "execute_result"
    }
   ],
   "source": [
    "features_final_b.head()"
   ]
  },
  {
   "cell_type": "markdown",
   "metadata": {},
   "source": [
    "MEG: Not sure how to identify which column is which now .. I assume that col 1 before is col 1 after but assuming isn't the best course of action. Ask in the workshop!"
   ]
  },
  {
   "cell_type": "markdown",
   "metadata": {},
   "source": [
    "## Summary\n",
    "Great! You've now transformed your final data using feature scaling and normalization, and stored them in the `features_final` dataframe."
   ]
  }
 ],
 "metadata": {
  "kernelspec": {
   "display_name": "Python 3",
   "language": "python",
   "name": "python3"
  },
  "language_info": {
   "codemirror_mode": {
    "name": "ipython",
    "version": 3
   },
   "file_extension": ".py",
   "mimetype": "text/x-python",
   "name": "python",
   "nbconvert_exporter": "python",
   "pygments_lexer": "ipython3",
   "version": "3.7.3"
  }
 },
 "nbformat": 4,
 "nbformat_minor": 2
}
